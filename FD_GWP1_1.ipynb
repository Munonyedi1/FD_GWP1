{
  "nbformat": 4,
  "nbformat_minor": 0,
  "metadata": {
    "colab": {
      "provenance": [],
      "toc_visible": true,
      "authorship_tag": "ABX9TyOSefbWs/jofmpMgUyxOFME",
      "include_colab_link": true
    },
    "kernelspec": {
      "name": "python3",
      "display_name": "Python 3"
    },
    "language_info": {
      "name": "python"
    }
  },
  "cells": [
    {
      "cell_type": "markdown",
      "metadata": {
        "id": "view-in-github",
        "colab_type": "text"
      },
      "source": [
        "<a href=\"https://colab.research.google.com/github/Munonyedi1/FD_GWP1/blob/main/FD_GWP1_1.ipynb\" target=\"_parent\"><img src=\"https://colab.research.google.com/assets/colab-badge.svg\" alt=\"Open In Colab\"/></a>"
      ]
    },
    {
      "cell_type": "markdown",
      "source": [
        "# Ingestion"
      ],
      "metadata": {
        "id": "DdRE5IvLs4VL"
      }
    },
    {
      "cell_type": "code",
      "execution_count": null,
      "metadata": {
        "id": "l-Lzsua4se9w"
      },
      "outputs": [],
      "source": [
        "import pandas as pd\n",
        "import numpy as np\n",
        "import matplotlib.pyplot as plt"
      ]
    },
    {
      "cell_type": "markdown",
      "source": [
        "# Body"
      ],
      "metadata": {
        "id": "fFRXnDyqtAT1"
      }
    },
    {
      "cell_type": "code",
      "source": [
        "print('This is FD GWP 1')\n",
        "print('I will be out for a few hours, please comment \"Yes\" if you got access to this!')"
      ],
      "metadata": {
        "colab": {
          "base_uri": "https://localhost:8080/"
        },
        "id": "KCzLfU5UtQ4K",
        "outputId": "e154a678-73ab-4a33-c50a-380af2a3e732"
      },
      "execution_count": 7,
      "outputs": [
        {
          "output_type": "stream",
          "name": "stdout",
          "text": [
            "This is FD GWP 1\n",
            "I will be out for a few hours, please comment \"Yes\" if you got access to this!\n"
          ]
        }
      ]
    },
    {
      "cell_type": "code",
      "source": [
        "print('Thank you!')"
      ],
      "metadata": {
        "colab": {
          "base_uri": "https://localhost:8080/"
        },
        "id": "3fuXWemeviYC",
        "outputId": "ba325979-c2e4-41cb-a38b-d8139b5c9d20"
      },
      "execution_count": 6,
      "outputs": [
        {
          "output_type": "stream",
          "name": "stdout",
          "text": [
            "Thank you!\n"
          ]
        }
      ]
    },
    {
      "cell_type": "markdown",
      "source": [
        "# Conclusion"
      ],
      "metadata": {
        "id": "VPc1_oGxtKVE"
      }
    }
  ]
}